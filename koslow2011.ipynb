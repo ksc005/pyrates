{
 "cells": [
  {
   "cell_type": "markdown",
   "id": "2fa3d85b-fa3b-4ec7-bea4-069bbfd69e6c",
   "metadata": {},
   "source": [
    "# PyRATES Reproducibility Study"
   ]
  },
  {
   "cell_type": "markdown",
   "id": "845792fb-6faf-490c-8603-13d126449b0f",
   "metadata": {},
   "source": [
    "## Koslow et al. (2011) \"Impact of declining intermediate-water oxygen on deepwater fishes in the California Current\"\n",
    "[Link to study](https://www.researchgate.net/publication/263583233_Impact_of_declining_intermediate-water_oxygen_on_deepwater_fishes_in_the_California_Current)\n",
    "\n",
    "***"
   ]
  },
  {
   "cell_type": "markdown",
   "id": "89f59a9f",
   "metadata": {},
   "source": [
    "### 0. Set Up"
   ]
  },
  {
   "cell_type": "markdown",
   "id": "3758b17d",
   "metadata": {},
   "source": [
    "Load libraries."
   ]
  },
  {
   "cell_type": "code",
   "execution_count": null,
   "id": "0d7d4cce",
   "metadata": {},
   "outputs": [],
   "source": [
    "import pandas as pd\n",
    "import numpy as np\n",
    "import matplotlib.pyplot as plt\n",
    "from sklearn.preprocessing import StandardScaler\n",
    "from sklearn.decomposition import PCA"
   ]
  },
  {
   "cell_type": "markdown",
   "id": "33e63e9e",
   "metadata": {},
   "source": [
    "***"
   ]
  },
  {
   "cell_type": "markdown",
   "id": "b82cfb76-4323-4d08-a59f-d6dcb506ffff",
   "metadata": {},
   "source": [
    "### 1. Get and Process CalCOFI Ichthyoplankton Data"
   ]
  },
  {
   "cell_type": "markdown",
   "id": "c3f40a79-dbf0-4e52-9038-5f784eb723bd",
   "metadata": {},
   "source": [
    "CalCOFI ichthyoplankton data is hosted here on [ERDDAP](https://coastwatch.pfeg.noaa.gov/erddap/tabledap/erdCalCOFIlrvcnt.html).\n",
    "\n",
    "The analysis in this paper includes data from 3 species' eggs in addition to the ichthyoplankton data. As of last check on 7/30/24, the link to the CalCOFI egg count positive tows dataset on [calcofi.org](https://calcofi.org/data/marine-ecosystem-data/fish-eggs-larvae/) is giving a 404 error. For now I will just work with the ichthyoplankton data."
   ]
  },
  {
   "cell_type": "markdown",
   "id": "220c8556-9fad-415e-9ae8-10b3c2b82029",
   "metadata": {},
   "source": [
    "Manual step: query ERDDAP.\n",
    "- check all variables\n",
    "- constrain the time >= 1951-01-18T00:00:00Z and <= 2008-12-31T23:59:59Z\n",
    "- download the data as a csv file"
   ]
  },
  {
   "cell_type": "markdown",
   "id": "9942c536-df9c-4d47-a554-693e5a08c01d",
   "metadata": {},
   "source": [
    "Read in the data. !!Adjust this later to read from the github filepath!!"
   ]
  },
  {
   "cell_type": "code",
   "execution_count": null,
   "id": "1e9f09de-2b7b-4d75-aec5-245f5e6a88c9",
   "metadata": {},
   "outputs": [],
   "source": [
    "# there is a datetime column; use this as the index\n",
    "df = pd.read_csv(\"erdCalCOFIlrvcnt_492a_ca36_1eb4.csv\",\n",
    "                 index_col = 7, parse_dates = True)"
   ]
  },
  {
   "cell_type": "markdown",
   "id": "18781c56-0485-47ac-a8fb-b2fea85a2fc1",
   "metadata": {},
   "source": [
    "Check the column names of the data."
   ]
  },
  {
   "cell_type": "code",
   "execution_count": null,
   "id": "ae74e22d-96c8-439a-9c48-89d320d5d874",
   "metadata": {},
   "outputs": [],
   "source": [
    "display(df.columns)"
   ]
  },
  {
   "cell_type": "markdown",
   "id": "92d878ba-a668-4d36-812c-2f896501f3db",
   "metadata": {},
   "source": [
    "View the first few rows of the data."
   ]
  },
  {
   "cell_type": "code",
   "execution_count": null,
   "id": "c03dde94-d07b-4110-bace-9a19d081bb8c",
   "metadata": {},
   "outputs": [],
   "source": [
    "display(df.head())"
   ]
  },
  {
   "cell_type": "markdown",
   "id": "c7a8debc",
   "metadata": {},
   "source": [
    "Select just the needed columns: line, station, scientific name, and larval abundance."
   ]
  },
  {
   "cell_type": "code",
   "execution_count": null,
   "id": "8fded164",
   "metadata": {},
   "outputs": [],
   "source": [
    "# get just the columns we need\n",
    "df = (df.filter(items =[\"line\",\"station\",\"scientific_name\", \"larvae_10m2\"])\n",
    "        .dropna())\n",
    "\n",
    "# show the first few observations in the new dataframe\n",
    "display(df.head())"
   ]
  },
  {
   "cell_type": "markdown",
   "id": "a5e6139f",
   "metadata": {},
   "source": [
    "Build a dataframe with the lines and stations used in the study.\n",
    "\n",
    "Note that the text says that 51 stations were used; however, the map in Figure 1 seems to have 55 stations in the outlined region. I am including all 55 of these stations because it is not clear which ones were removed from the study."
   ]
  },
  {
   "cell_type": "code",
   "execution_count": null,
   "id": "078a8db3",
   "metadata": {},
   "outputs": [],
   "source": [
    "# create a DataFrame with lines as columns and stations as rows\n",
    "stations = pd.DataFrame(\n",
    "   {\"76.7\" : [80, 70, 60, 55, 51, 49, pd.NA, pd.NA, pd.NA, pd.NA, pd.NA, pd.NA],\n",
    "    \"80\" : [100, 90, 80, 70, 60, 55, 51, pd.NA, pd.NA, pd.NA, pd.NA, pd.NA],\n",
    "    \"81.8\" : [46.9, pd.NA, pd.NA, pd.NA, pd.NA, pd.NA, pd.NA, pd.NA, pd.NA, pd.NA, pd.NA, pd.NA],\n",
    "    \"83.3\" : [90, 80, 70, 60, 55, 51, 42, 40.6, pd.NA, pd.NA, pd.NA, pd.NA],\n",
    "    \"86.7\" : [90, 80, 70, 60, 55, 50, 45, 40, 35, 33, pd.NA, pd.NA],\n",
    "    \"90\" : [100, 90, 80, 70, 60, 53, 45, 37, 35, 30, 28, pd.NA],\n",
    "    \"93.3\" : [90, 80, 70, 60, 55, 50, 45, 40, 35, 30, 28, 26.7]\n",
    "    }\n",
    ")\n",
    "\n",
    "# melt the df to get a row for each line-station combination\n",
    "stations = (pd.melt(stations,\n",
    "                   var_name = \"line\",\n",
    "                   value_name = \"station\")\n",
    "               .dropna() # now drop the NA values\n",
    "               .astype('float64') # coerce to float64 to facilitate merging later\n",
    "               )\n",
    "\n",
    "# count the number of stations to check there are 55\n",
    "display(len(stations))"
   ]
  },
  {
   "cell_type": "markdown",
   "id": "28212a1d-112c-4652-a0ca-afc949f8d1f8",
   "metadata": {},
   "source": [
    "Filter for the stations used in the study."
   ]
  },
  {
   "cell_type": "code",
   "execution_count": null,
   "id": "ee1fbd31",
   "metadata": {},
   "outputs": [],
   "source": [
    "# inner join to keep only the rows with the correct line-stations we are keeping\n",
    "df2 = (df.reset_index() # move the datetime index to a regular column\n",
    "        .merge(stations,\n",
    "               how = \"inner\",\n",
    "               left_on = [\"line\", \"station\"],\n",
    "               right_on = [\"line\", \"station\"]) # do the merge\n",
    "        .set_index(\"time\")) # reset the datetime column to index\n",
    "\n",
    "# count the number of observations at each line-station\n",
    "observations = df2.groupby([\"line\",\"station\"]).size()\n",
    "\n",
    "# count again to check there are still 55 stations\n",
    "display(len(observations))"
   ]
  },
  {
   "cell_type": "markdown",
   "id": "a4fe0e78",
   "metadata": {},
   "source": [
    "Filter for only taxa identified to species... is what I did originally but now I see the authors have kept some larger taxonomic groupings, so I will skip this step."
   ]
  },
  {
   "cell_type": "code",
   "execution_count": null,
   "id": "65881af9",
   "metadata": {},
   "outputs": [],
   "source": [
    "# since species names are \"Genus species\", they all contain a space, so I will filter the scientific_name column for just the ones that contain a space\n",
    "# df3 = df2[df2[\"scientific_name\"].str.contains(\" \")]\n",
    "\n",
    "df3 = df2\n",
    "\n",
    "# count the number of TAXA currently included\n",
    "display(len(df3[\"scientific_name\"].unique()))"
   ]
  },
  {
   "cell_type": "markdown",
   "id": "e2401818-b576-4aab-8cdf-b4dcad06865e",
   "metadata": {},
   "source": [
    "Assign seasons to the dates. In the text, it says Jan-Feb = winter, Mar-May = spring, Jun-Aug = summer, Sep-Dec = fall."
   ]
  },
  {
   "cell_type": "code",
   "execution_count": null,
   "id": "3e3f7a5d",
   "metadata": {},
   "outputs": [],
   "source": [
    "# make sure the index is of datetime type\n",
    "df3.index = pd.to_datetime(df3.index, utc = True)\n",
    "\n",
    "# code the seasons based on the month column\n",
    "df3.loc[df3.index.month.isin([1,2]),\"season\"] = \"Winter\"\n",
    "df3.loc[df3.index.month.isin([3,4,5]),\"season\"] = \"Spring\"\n",
    "df3.loc[df3.index.month.isin([6,7,8]),\"season\"] = \"Summer\"\n",
    "df3.loc[df3.index.month.isin([9,10,11,12]),\"season\"] = \"Fall\"\n",
    "\n",
    "# show the last few rows\n",
    "display(df3.tail())\n",
    "\n"
   ]
  },
  {
   "cell_type": "markdown",
   "id": "eac0642d-8f7d-427e-9c41-898ea36484ff",
   "metadata": {},
   "source": [
    "Remove years with < three seasons of data."
   ]
  },
  {
   "cell_type": "code",
   "execution_count": null,
   "id": "c24f6f2e",
   "metadata": {},
   "outputs": [],
   "source": [
    "# make a new column with the index year\n",
    "df3[\"year\"] = df3.index.year\n",
    "\n",
    "# for each year, count the number of seasons of data present\n",
    "seasons = (df3.filter(items = [\"year\", \"season\"])\n",
    "           .groupby(\"year\") # group by year\n",
    "           .nunique() # count the seasons each year has\n",
    "           .rename(columns = {\"season\": \"count\"}) # name the count column \"count\"\n",
    "           .reset_index() # ungroup\n",
    "           )\n",
    "\n",
    "# drop the years that have less than 3 seasons of data\n",
    "df3 = df3.drop(\n",
    "    df3[df3.year.isin(seasons.query(\"count < 3\")[\"year\"])].index # get the index values matching this query\n",
    "    ) # then drop those rows\n",
    "\n",
    "# print the years remaining and the years that have been dropped\n",
    "display(df3[\"year\"].unique())\n",
    "display(seasons.query(\"count < 3\")[\"year\"])"
   ]
  },
  {
   "cell_type": "markdown",
   "id": "4c4bdbb6",
   "metadata": {},
   "source": [
    "Calculate seasonal means (for each year, each season) of larval abundance."
   ]
  },
  {
   "cell_type": "code",
   "execution_count": null,
   "id": "cf5c2907",
   "metadata": {},
   "outputs": [],
   "source": [
    "# make sure the abundance column is numeric\n",
    "df3[\"larvae_10m2\"] = pd.to_numeric(df3[\"larvae_10m2\"])\n",
    "\n",
    "# print the data types\n",
    "display(df3.dtypes)"
   ]
  },
  {
   "cell_type": "code",
   "execution_count": null,
   "id": "4f46bae8",
   "metadata": {},
   "outputs": [],
   "source": [
    "# group by year, season, and taxa. then take the mean of the larval abundance\n",
    "seasonalMeans = (df3.filter([\"year\",\"season\",\"scientific_name\",\"larvae_10m2\"])\n",
    "                 .groupby([\"year\",\"season\",\"scientific_name\"]) # group by year, season, taxa\n",
    "                 .mean() # take the mean of larvae_10m2\n",
    "                 .reset_index() # ungroup\n",
    "                 )\n",
    "\n",
    "# show the first few rows\n",
    "display(seasonalMeans.head())"
   ]
  },
  {
   "cell_type": "markdown",
   "id": "d249a2cb-7a61-4e7a-b1fb-cb786c714a9a",
   "metadata": {},
   "source": [
    "Calculate annual means of larval abundance."
   ]
  },
  {
   "cell_type": "code",
   "execution_count": null,
   "id": "7c4a2e64",
   "metadata": {},
   "outputs": [],
   "source": [
    "# group by year and taxa, then take the mean of the seasonal abundances\n",
    "annualMeans = (seasonalMeans.filter([\"year\", \"scientific_name\", \"larvae_10m2\"])\n",
    "               .groupby([\"year\", \"scientific_name\"]) # group by year and taxa\n",
    "               .mean() # take the mean of larvae_10m2\n",
    "               .reset_index() # ungroup\n",
    "               )\n",
    "\n",
    "# show the last few rows\n",
    "display(annualMeans.tail())"
   ]
  },
  {
   "cell_type": "markdown",
   "id": "8ee362c8-e0fa-4fc4-9d50-f8c2da1fa6d1",
   "metadata": {},
   "source": [
    "Remove species with data in < half the years. We should end up with larval abundance observations for roughly 86 taxa."
   ]
  },
  {
   "cell_type": "code",
   "execution_count": null,
   "id": "ae9ff14a",
   "metadata": {},
   "outputs": [],
   "source": [
    "# for each taxon, count how many years of data they have\n",
    "yearsOfData = (annualMeans.filter([\"year\", \"scientific_name\"])\n",
    "               .groupby([\"scientific_name\"]) # group by taxa\n",
    "               .nunique() # count the number of years each taxon has\n",
    "               .rename(columns = {\"year\": \"count\"}) # name the count column \"count\"\n",
    "               .reset_index() # ungroup\n",
    "               )\n",
    "\n",
    "# drop taxa with years of data less than the threshold (29, half the length of the time series)\n",
    "annualMeans = annualMeans.drop(\n",
    "    annualMeans[annualMeans.scientific_name.isin(\n",
    "        yearsOfData.query(\"count < 29\")[\"scientific_name\"]\n",
    "        )].index # get the index values matching this query\n",
    "    ) # then drop those rows\n",
    "\n",
    "# count the taxa remaining\n",
    "display(len(annualMeans[\"scientific_name\"].unique()))"
   ]
  },
  {
   "cell_type": "markdown",
   "id": "ad28434e",
   "metadata": {},
   "source": [
    "We still have 93 taxa. Besides occurrence in at least half the years, the other condition stated in the paper was \"consistent identification and enumeration since 1951\". Let's plot the timeseries of annual abundance for each species."
   ]
  },
  {
   "cell_type": "code",
   "execution_count": null,
   "id": "1755c0e6",
   "metadata": {},
   "outputs": [],
   "source": [
    "# pivot_longer to get a column for each species\n",
    "annualMeansPlot = annualMeans.pivot_table(values=\"larvae_10m2\", index=\"year\", columns=\"scientific_name\")\n",
    "\n",
    "# plot set up\n",
    "fig, axs = plt.subplots(nrows = 10, ncols = 10, # layout of subplots\n",
    "                        figsize = (30,45)) # figure size\n",
    "fig.subplots_adjust(wspace = 0.3, hspace = 0.3, bottom = 0.115, top = 0.88) # adjust white space in figure\n",
    "fig.suptitle(\"Annual Average Larval Abundances 1951-2008\", fontsize = 20, y = 0.9) # set overall title\n",
    "fig.supxlabel(\"Year\", fontsize = 17, y = 0.1) # set overall x axis label\n",
    "fig.supylabel(\"Larval Abundance 10/m^2\", fontsize = 17, x = 0.1) # set overall y axis label\n",
    "plt.setp(axs, xlim = (1950, 2009)) # set overall x axis limits\n",
    "\n",
    "# populate the subplots\n",
    "for col, ax in zip(annualMeansPlot.columns, axs.ravel()):\n",
    "    annualMeansPlot[[col]].plot(ax = ax)\n",
    "\n",
    "    ax.set_title(col, style = \"italic\") # subplot title = taxon name in italics\n",
    "    ax.get_legend().remove() # no subplot legend\n",
    "    ax.set_xlabel(\"\", fontsize = 16) #blank subplot xlabel\n",
    "\n",
    "# delete empty subplots\n",
    "for i in range(3,10):\n",
    "    fig.delaxes(axs[9, i])\n",
    "\n",
    "# display the figure\n",
    "plt.show()\n",
    "\n",
    "# this cell should take 10-15 secs to run"
   ]
  },
  {
   "cell_type": "markdown",
   "id": "28a6b99a",
   "metadata": {},
   "source": [
    "I will drop 'Teleostei' because that grouping is too broad. Then I will leave the rest of the taxa in."
   ]
  },
  {
   "cell_type": "code",
   "execution_count": null,
   "id": "459847fe",
   "metadata": {},
   "outputs": [],
   "source": [
    "# placeholder for dropping additional taxa\n",
    "annualMeans = annualMeans[annualMeans[\"scientific_name\"] != \"Teleostei\"]\n",
    "\n",
    "# count the taxa remaining, there should be 92\n",
    "display(len(annualMeans[\"scientific_name\"].unique()))"
   ]
  },
  {
   "cell_type": "markdown",
   "id": "0c30fc30-1c26-4429-b200-56ba85832cbf",
   "metadata": {},
   "source": [
    "Log-transform the annual means."
   ]
  },
  {
   "cell_type": "code",
   "execution_count": null,
   "id": "41b46e8c",
   "metadata": {},
   "outputs": [],
   "source": [
    "# apply log transformation to larvae_10m2\n",
    "annualMeans[\"log10_larvae\"] = np.log10(annualMeans[\"larvae_10m2\"])\n",
    "\n",
    "# show the first few columns\n",
    "display(annualMeans.head())"
   ]
  },
  {
   "cell_type": "markdown",
   "id": "259d952a-8f1f-4e21-bd45-37a9fbeb0c82",
   "metadata": {},
   "source": [
    "***"
   ]
  },
  {
   "cell_type": "markdown",
   "id": "172062d8",
   "metadata": {},
   "source": [
    "### 2. Get and Process CalCOFI Oxygen Data"
   ]
  },
  {
   "cell_type": "markdown",
   "id": "c875531d",
   "metadata": {},
   "source": [
    "CalCOFI midwater oxygen data is included in the [Bottle Database](https://calcofi.org/data/oceanographic-data/bottle-database/).\n",
    "\n",
    "Manual step: download CalCOFI bottle database and save as csv file."
   ]
  },
  {
   "cell_type": "markdown",
   "id": "4523ad98",
   "metadata": {},
   "source": [
    "Read in the data."
   ]
  },
  {
   "cell_type": "code",
   "execution_count": null,
   "id": "061d58c2",
   "metadata": {},
   "outputs": [],
   "source": [
    "# the fourth column, Depth_ID, will be used as the index\n",
    "oxygen = pd.read_csv(\"~/Desktop/PyRATES/pyrates/calcofi-bottle.csv\",\n",
    "                     index_col = 3)"
   ]
  },
  {
   "cell_type": "markdown",
   "id": "789d903a",
   "metadata": {},
   "source": [
    "Check the column names of the data."
   ]
  },
  {
   "cell_type": "code",
   "execution_count": null,
   "id": "73c867fb",
   "metadata": {},
   "outputs": [],
   "source": [
    "display(oxygen.columns)"
   ]
  },
  {
   "cell_type": "markdown",
   "id": "cb56e424",
   "metadata": {},
   "source": [
    "View the first few rows of the data."
   ]
  },
  {
   "cell_type": "code",
   "execution_count": null,
   "id": "ea6078f3",
   "metadata": {},
   "outputs": [],
   "source": [
    "display(oxygen.head())"
   ]
  },
  {
   "cell_type": "markdown",
   "id": "166a056c",
   "metadata": {},
   "source": [
    "Subset for only the columns we need-- Sta_ID (contains line and station), Depthm, O2ml_L."
   ]
  },
  {
   "cell_type": "code",
   "execution_count": null,
   "id": "61601942",
   "metadata": {},
   "outputs": [],
   "source": [
    "# get just the columns we need and drop NA values\n",
    "oxygen = (oxygen.filter(items =[\"Sta_ID\",\"Depthm\", \"O2ml_L\"])\n",
    "                .dropna())\n",
    "\n",
    "# show the first few observations in the new dataframe\n",
    "display(oxygen.head())"
   ]
  },
  {
   "cell_type": "markdown",
   "id": "23fac6b4",
   "metadata": {},
   "source": [
    "Filter for the years 1951-2008. Date identifiers are included in the Depth_ID index; the first five characters are [Century]-[Year]."
   ]
  },
  {
   "cell_type": "code",
   "execution_count": null,
   "id": "3c7d9e0c",
   "metadata": {},
   "outputs": [],
   "source": [
    "# extract the first five characters of the Depth_ID string and put them in a new column Year\n",
    "oxygen = oxygen.assign(Year = oxygen.index.str[:5]) \n",
    "\n",
    "# remove the \"-\" character from the Year column\n",
    "oxygen[\"Year\"] = oxygen[\"Year\"].str.replace(r'\\-', '', regex=True)\n",
    "\n",
    "# make the Year column numeric\n",
    "oxygen[\"Year\"] = pd.to_numeric(oxygen[\"Year\"])\n",
    "\n",
    "# filter for the years 1951-2008 and save the result in a new df\n",
    "oxygen2 = oxygen.query(\"Year >= 1951 & Year <= 2008\")\n",
    "\n",
    "# show the last few rows\n",
    "display(oxygen2.tail())"
   ]
  },
  {
   "cell_type": "markdown",
   "id": "33e4d0f7",
   "metadata": {},
   "source": [
    "Filter for the select stations used in this study."
   ]
  },
  {
   "cell_type": "code",
   "execution_count": null,
   "id": "32d30186",
   "metadata": {},
   "outputs": [],
   "source": [
    "# split the \"Sta_ID\" column into a \"line\" column and \"station\" column and make those columns floats\n",
    "oxygen2[[\"line\", \"station\"]] = oxygen2[\"Sta_ID\"].str.split(' ', n = 1, expand = True).astype('float64')\n",
    "\n",
    "# inner join with the stations dataframe to keep only the rows with the correct line-stations\n",
    "oxygen3 = (oxygen2.reset_index() # move the index to a regular column\n",
    "                  .merge(stations,\n",
    "                         how = \"inner\",\n",
    "                         left_on = [\"line\", \"station\"],\n",
    "                         right_on = [\"line\", \"station\"]) # do the merge\n",
    "                  .set_index(\"Depth_ID\")) # reset the Depth_ID column to index\n",
    "\n",
    "# count the number of observations at each line-station\n",
    "oxygenObservations = oxygen3.groupby([\"line\",\"station\"]).size()\n",
    "\n",
    "# count again to check there are 55 stations of data\n",
    "display(len(oxygenObservations))\n",
    "\n",
    "# show the first few rows\n",
    "display(oxygen3.head())"
   ]
  },
  {
   "cell_type": "markdown",
   "id": "67121213",
   "metadata": {},
   "source": [
    "Filter for depths 200-400m."
   ]
  },
  {
   "cell_type": "code",
   "execution_count": null,
   "id": "925b1aea",
   "metadata": {},
   "outputs": [],
   "source": [
    "# query the Depthm column for values between 200 and 400\n",
    "oxygen3 = oxygen3.query(\"Depthm >= 200 & Depthm <= 400\")\n",
    "\n",
    "# show the first few rows\n",
    "display(oxygen3.head())"
   ]
  },
  {
   "cell_type": "markdown",
   "id": "b30c3dab",
   "metadata": {},
   "source": [
    "Assign seasons to the data."
   ]
  },
  {
   "cell_type": "code",
   "execution_count": null,
   "id": "b8792b31",
   "metadata": {},
   "outputs": [],
   "source": [
    "# extract the month from the Depth_ID index\n",
    "oxygen3 = oxygen3.assign(Month = oxygen3.index.str[5:7])\n",
    "oxygen3[\"Month\"] = pd.to_numeric(oxygen3[\"Month\"]) # make numeric\n",
    "\n",
    "# code the seasons based on the month column\n",
    "oxygen3.loc[oxygen3.Month.isin([1,2]),\"season\"] = \"Winter\"\n",
    "oxygen3.loc[oxygen3.Month.isin([3,4,5]),\"season\"] = \"Spring\"\n",
    "oxygen3.loc[oxygen3.Month.isin([6,7,8]),\"season\"] = \"Summer\"\n",
    "oxygen3.loc[oxygen3.Month.isin([9,10,11,12]),\"season\"] = \"Fall\"\n",
    "\n",
    "# show the last few rows\n",
    "display(oxygen3.tail())"
   ]
  },
  {
   "cell_type": "markdown",
   "id": "742615a1",
   "metadata": {},
   "source": [
    "Remove years with < three seasons of data."
   ]
  },
  {
   "cell_type": "code",
   "execution_count": null,
   "id": "38ed4f6d",
   "metadata": {},
   "outputs": [],
   "source": [
    "# for each year, count the number of seasons of data present\n",
    "oxygenSeasons = (oxygen3.filter(items = [\"Year\", \"season\"])\n",
    "           .groupby(\"Year\") # group by year\n",
    "           .nunique() # count the seasons each year has\n",
    "           .rename(columns = {\"season\": \"count\"}) # name the count column \"count\"\n",
    "           .reset_index() # ungroup\n",
    "           )\n",
    "\n",
    "# drop the years that have less than 3 seasons of data\n",
    "oxygen3 = oxygen3.drop(\n",
    "    oxygen3[oxygen3.Year.isin(oxygenSeasons.query(\"count < 3\")[\"Year\"])].index # get the index values matching this query\n",
    "    ) # then drop those rows\n",
    "\n",
    "# print the years remaining and the years that have been dropped\n",
    "display(oxygen3[\"Year\"].unique())\n",
    "display(oxygenSeasons.query(\"count < 3\")[\"Year\"])"
   ]
  },
  {
   "cell_type": "markdown",
   "id": "d6d0da3f",
   "metadata": {},
   "source": [
    "Calculate seasonal means of midwater oxygen."
   ]
  },
  {
   "cell_type": "code",
   "execution_count": null,
   "id": "dd763a3c",
   "metadata": {},
   "outputs": [],
   "source": [
    "# group by year and season. then take the mean of the oxygen\n",
    "seasonalOxygen = (oxygen3.filter([\"Year\",\"season\", \"O2ml_L\"])\n",
    "                         .groupby([\"Year\",\"season\"]) # group by year, season\n",
    "                         .mean() # take the mean of O2ml_L\n",
    "                         .reset_index() # ungroup\n",
    "                 )\n",
    "\n",
    "# show the first few rows\n",
    "display(seasonalOxygen.head())"
   ]
  },
  {
   "cell_type": "markdown",
   "id": "b2589339",
   "metadata": {},
   "source": [
    "Calculate annual means of midwater oxygen."
   ]
  },
  {
   "cell_type": "code",
   "execution_count": null,
   "id": "55ee1b1d",
   "metadata": {},
   "outputs": [],
   "source": [
    "# calculate annual means\n",
    "annualOxygen = (seasonalOxygen.filter([\"O2ml_L\", \"Year\"]) # select oxygen and year columns\n",
    "                              .groupby(\"Year\") # group by year\n",
    "                              .mean() # take the mean of O2ml_L\n",
    "                              .reset_index() # ungroup\n",
    "                )\n",
    "\n",
    "# show the first few rows\n",
    "display(annualOxygen.head())"
   ]
  },
  {
   "cell_type": "markdown",
   "id": "28c9ff6e",
   "metadata": {},
   "source": [
    "Plot annual midwater oxygen time series."
   ]
  },
  {
   "cell_type": "code",
   "execution_count": null,
   "id": "a07e8492",
   "metadata": {},
   "outputs": [],
   "source": [
    "fig = plt.figure(figsize = (10, 6)) # set figure size\n",
    "\n",
    "ax = fig.add_subplot(1, 1, 1) # subplot layout\n",
    "ax.plot(annualOxygen[\"Year\"], annualOxygen[\"O2ml_L\"]); # variables to plot\n",
    "\n",
    "ax.set_xlabel(\"Year\") # set x axis label\n",
    "ax.set_ylabel(\"Mean Midwater Oxygen (ml/L)\") # set y axis label\n",
    "ax.set_title(\"Annual Mean Oxygen, 200-400m\") # set figure title"
   ]
  },
  {
   "cell_type": "markdown",
   "id": "4204ab1c-4a98-4d34-ad2e-444600f422b6",
   "metadata": {},
   "source": [
    "***"
   ]
  },
  {
   "cell_type": "markdown",
   "id": "785e3cc9-ea22-4694-bf15-a92d5196b2a2",
   "metadata": {},
   "source": [
    "### 3. Analysis"
   ]
  },
  {
   "cell_type": "markdown",
   "id": "ba211639-054f-4009-a84f-e270673cb5a2",
   "metadata": {},
   "source": [
    "Standardize taxa by mean and standard deviation."
   ]
  },
  {
   "cell_type": "code",
   "execution_count": null,
   "id": "b187971c",
   "metadata": {},
   "outputs": [],
   "source": [
    "# take the annualMeans df, cast it so that each taxon is a column\n",
    "pca_data = (annualMeans.filter([\"year\", \"scientific_name\", \"log10_larvae\"]) # select variables\n",
    "                       .pivot_table(values = \"log10_larvae\",\n",
    "                                    index = \"year\",\n",
    "                                    columns = \"scientific_name\") # cast to get a column for each taxon, and a row for each year\n",
    "                       .fillna(0) # replace any NaN with 0; no larvae of that taxon were observed in that year\n",
    "                       .reset_index() # make year a regular column \n",
    "            )\n",
    "\n",
    "# show the first few rows of the new df\n",
    "display(pca_data.head())\n",
    "\n",
    "# standardize the features\n",
    "features = pca_data.drop(columns=[\"year\"]) # exclude the year column (index 0)\n",
    "\n",
    "featuresScaled = StandardScaler().fit_transform(features) # StandardScaler's fit_transform method standardizes each column by its mean and standard deviation\n"
   ]
  },
  {
   "cell_type": "markdown",
   "id": "2bb53e9a-adbc-4bd0-8cf5-004c884af0f8",
   "metadata": {},
   "source": [
    "Perform PCA."
   ]
  },
  {
   "cell_type": "code",
   "execution_count": null,
   "id": "6bf63a21",
   "metadata": {},
   "outputs": [],
   "source": [
    "# apply PCA\n",
    "pca = PCA(n_components=2) # how many dimensions to reduce to\n",
    "principalComponents = pca.fit_transform(featuresScaled) # apply PCA on the features\n",
    "\n",
    "principalDf = pd.DataFrame(data = principalComponents,\n",
    "                           columns = ['PC1', 'PC2']) # extract PC1 and PC2\n",
    "\n",
    "# concatenate the years to the PC1 and PC2 series\n",
    "finalDf = pd.concat([principalDf, pca_data[[\"year\"]]], axis = 1)\n",
    "\n",
    "# show the first few years of PC1 and PC2 scores\n",
    "display(finalDf.head())\n",
    "\n",
    "# get the explained variance\n",
    "print(\"Explained variance ratio:\", pca.explained_variance_ratio_)\n",
    "print(\"Cumulative explained variance:\", np.cumsum(pca.explained_variance_ratio_))"
   ]
  },
  {
   "cell_type": "code",
   "execution_count": null,
   "id": "97fbb68a",
   "metadata": {},
   "outputs": [],
   "source": [
    "# trying to make a biplot\n",
    "\n",
    "# define biplot function\n",
    "def biplot(score, coeff, color_by, pc_names):\n",
    "    # Create a scatter plot of the principal component scores\n",
    "    plt.figure(figsize=(10, 8)) # set figure size\n",
    "    plt.scatter(score[:, 0], score[:, 1], c = color_by, alpha=0.8) # make scatter plot\n",
    "    \n",
    "    # Add the feature vectors\n",
    "    for i in range(coeff.shape[0]):\n",
    "        plt.arrow(0, 0, coeff[i,0] * 20, coeff[i,1] * 20, color='r', alpha=0.8, head_width=0.05)\n",
    "        plt.text(coeff[i,0]*23, coeff[i,1]*23, pc_names[i], color='g', ha='center', va='center')\n",
    "\n",
    "    plt.xlabel('Principal Component 1') # set x axis label\n",
    "    plt.ylabel('Principal Component 2') # set y axis label\n",
    "    plt.title('PCA Biplot') # set figure title\n",
    "    plt.grid(True) # add gridlines\n",
    "    plt.colorbar() # add color bar\n",
    "    plt.axhline(0, color='black',linewidth=0.5) # add y=0 line\n",
    "    plt.axvline(0, color='black',linewidth=0.5) # add x=0 line\n",
    "    plt.show() # display plot\n",
    "\n",
    "# Get the principal component loadings\n",
    "loadings = pca.components_.T  # transpose to align with features\n",
    "print(loadings)\n",
    "\n",
    "# Feature names for labeling\n",
    "feature_names = features.columns\n",
    "print(feature_names)\n",
    "\n",
    "# Create the biplot\n",
    "biplot(principalComponents, loadings, finalDf[\"year\"], feature_names)"
   ]
  },
  {
   "cell_type": "markdown",
   "id": "13288bad",
   "metadata": {},
   "source": [
    "Plot PC1 timeseries."
   ]
  },
  {
   "cell_type": "code",
   "execution_count": null,
   "id": "7ce82c85",
   "metadata": {},
   "outputs": [],
   "source": [
    "fig = plt.figure(figsize = (10, 6)) # set figure size\n",
    "\n",
    "ax = fig.add_subplot(1, 1, 1) # subplot layout\n",
    "ax.plot(finalDf[\"year\"], finalDf[\"PC1\"]); # variables to plot\n",
    "\n",
    "ax.set_xlabel(\"Year\") # set x axis label\n",
    "ax.set_ylabel(\"PC1 Axis\") # set y axis label\n",
    "ax.set_title(\"PC1 Time Series\") # set figure title"
   ]
  },
  {
   "cell_type": "markdown",
   "id": "2cbbf7b1",
   "metadata": {},
   "source": [
    "PC1 --> detrending, N* correction, first-differencing"
   ]
  },
  {
   "cell_type": "markdown",
   "id": "278eb234",
   "metadata": {},
   "source": [
    "..."
   ]
  },
  {
   "cell_type": "markdown",
   "id": "0ad3a602",
   "metadata": {},
   "source": [
    "***"
   ]
  },
  {
   "cell_type": "markdown",
   "id": "1ae05faf",
   "metadata": {},
   "source": [
    "### 4. Make Figures"
   ]
  },
  {
   "cell_type": "markdown",
   "id": "bb47685d",
   "metadata": {},
   "source": [
    "Table 2: Taxa that contributed significantly to PC1 with their loadings, equivalent to their correlation with the PC1 timeseries."
   ]
  },
  {
   "cell_type": "markdown",
   "id": "379cd433",
   "metadata": {},
   "source": [
    "Figure 2: Time series of four taxa that contributed significantly to PC1."
   ]
  },
  {
   "cell_type": "markdown",
   "id": "3634ae52",
   "metadata": {},
   "source": [
    "Figure 3: Time series of PC1 and mean midwater oxygen (200-400m)."
   ]
  }
 ],
 "metadata": {
  "kernelspec": {
   "display_name": "Python 3 (ipykernel)",
   "language": "python",
   "name": "python3"
  },
  "language_info": {
   "codemirror_mode": {
    "name": "ipython",
    "version": 3
   },
   "file_extension": ".py",
   "mimetype": "text/x-python",
   "name": "python",
   "nbconvert_exporter": "python",
   "pygments_lexer": "ipython3",
   "version": "3.11.9"
  }
 },
 "nbformat": 4,
 "nbformat_minor": 5
}
